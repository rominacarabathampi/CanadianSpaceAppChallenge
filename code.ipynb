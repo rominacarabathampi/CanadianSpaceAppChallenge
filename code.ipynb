{
 "cells": [
  {
   "cell_type": "markdown",
   "metadata": {},
   "source": [
    "# Canadian Space Agency Challenge -- RADI-N2\n",
    "\n",
    "This is the file used to clean and organize the datasets from the Canadian Space Agency Challence regarding radiation.\n",
    "The file `Radi-N2 -ISS data.csv` contains the information provided by the Canadian austronauts on the International Space Station(ISS). The data was collected for each 7th day mentioned in the interval.\n",
    "\n",
    "The austronauts measured the neutron values on a 7-day period. They used a neutron dosimeter."
   ]
  },
  {
   "cell_type": "code",
   "execution_count": 1,
   "metadata": {},
   "outputs": [],
   "source": [
    "# import panda library\n",
    "import pandas as pd"
   ]
  },
  {
   "cell_type": "code",
   "execution_count": 2,
   "metadata": {},
   "outputs": [],
   "source": [
    "# read the file\n",
    "df = pd.read_csv(\"Radi-N2 -ISS data.csv\")"
   ]
  },
  {
   "cell_type": "code",
   "execution_count": 3,
   "metadata": {
    "scrolled": true
   },
   "outputs": [
    {
     "data": {
      "text/html": [
       "<div>\n",
       "<style scoped>\n",
       "    .dataframe tbody tr th:only-of-type {\n",
       "        vertical-align: middle;\n",
       "    }\n",
       "\n",
       "    .dataframe tbody tr th {\n",
       "        vertical-align: top;\n",
       "    }\n",
       "\n",
       "    .dataframe thead th {\n",
       "        text-align: right;\n",
       "    }\n",
       "</style>\n",
       "<table border=\"1\" class=\"dataframe\">\n",
       "  <thead>\n",
       "    <tr style=\"text-align: right;\">\n",
       "      <th></th>\n",
       "      <th>ROBERT THIRSK MISSION DATA</th>\n",
       "      <th>Unnamed: 1</th>\n",
       "      <th>Unnamed: 2</th>\n",
       "      <th>Unnamed: 3</th>\n",
       "      <th>Unnamed: 4</th>\n",
       "      <th>Unnamed: 5</th>\n",
       "      <th>Unnamed: 6</th>\n",
       "    </tr>\n",
       "  </thead>\n",
       "  <tbody>\n",
       "    <tr>\n",
       "      <th>0</th>\n",
       "      <td>Start-Date(YYYY/MM/DD)</td>\n",
       "      <td>End-Date(YYYY/MM/DD)</td>\n",
       "      <td>Measurement-Duration(minutes)</td>\n",
       "      <td>Detector-Number</td>\n",
       "      <td>Sensitivity(b/mrem)*</td>\n",
       "      <td>Bubble Count</td>\n",
       "      <td>Calculated-Exposure(mrem)</td>\n",
       "    </tr>\n",
       "    <tr>\n",
       "      <th>1</th>\n",
       "      <td>2009-09-06</td>\n",
       "      <td>2009-09-13</td>\n",
       "      <td>9872</td>\n",
       "      <td>A92 (1415)</td>\n",
       "      <td>0.86</td>\n",
       "      <td>107</td>\n",
       "      <td>124</td>\n",
       "    </tr>\n",
       "    <tr>\n",
       "      <th>2</th>\n",
       "      <td>2009-10-03</td>\n",
       "      <td>2009-10-10</td>\n",
       "      <td>10793</td>\n",
       "      <td>A92 (1415)</td>\n",
       "      <td>0.86</td>\n",
       "      <td>141</td>\n",
       "      <td>164</td>\n",
       "    </tr>\n",
       "    <tr>\n",
       "      <th>3</th>\n",
       "      <td>2009-11-09</td>\n",
       "      <td>2019-11-16</td>\n",
       "      <td>10069</td>\n",
       "      <td>A92 (1415)</td>\n",
       "      <td>0.86</td>\n",
       "      <td>65</td>\n",
       "      <td>76</td>\n",
       "    </tr>\n",
       "    <tr>\n",
       "      <th>4</th>\n",
       "      <td>NaN</td>\n",
       "      <td>NaN</td>\n",
       "      <td>NaN</td>\n",
       "      <td>NaN</td>\n",
       "      <td>NaN</td>\n",
       "      <td>NaN</td>\n",
       "      <td>NaN</td>\n",
       "    </tr>\n",
       "    <tr>\n",
       "      <th>5</th>\n",
       "      <td>*Sensitivity calculation : Includes space cali...</td>\n",
       "      <td>NaN</td>\n",
       "      <td>NaN</td>\n",
       "      <td>NaN</td>\n",
       "      <td>NaN</td>\n",
       "      <td>NaN</td>\n",
       "      <td>NaN</td>\n",
       "    </tr>\n",
       "    <tr>\n",
       "      <th>6</th>\n",
       "      <td>It should be noted that the results from space...</td>\n",
       "      <td>NaN</td>\n",
       "      <td>NaN</td>\n",
       "      <td>NaN</td>\n",
       "      <td>NaN</td>\n",
       "      <td>NaN</td>\n",
       "      <td>NaN</td>\n",
       "    </tr>\n",
       "  </tbody>\n",
       "</table>\n",
       "</div>"
      ],
      "text/plain": [
       "                          ROBERT THIRSK MISSION DATA            Unnamed: 1  \\\n",
       "0                             Start-Date(YYYY/MM/DD)  End-Date(YYYY/MM/DD)   \n",
       "1                                         2009-09-06            2009-09-13   \n",
       "2                                         2009-10-03            2009-10-10   \n",
       "3                                         2009-11-09            2019-11-16   \n",
       "4                                                NaN                   NaN   \n",
       "5  *Sensitivity calculation : Includes space cali...                   NaN   \n",
       "6  It should be noted that the results from space...                   NaN   \n",
       "\n",
       "                      Unnamed: 2       Unnamed: 3            Unnamed: 4  \\\n",
       "0  Measurement-Duration(minutes)  Detector-Number  Sensitivity(b/mrem)*   \n",
       "1                           9872       A92 (1415)                  0.86   \n",
       "2                          10793       A92 (1415)                  0.86   \n",
       "3                          10069       A92 (1415)                  0.86   \n",
       "4                            NaN              NaN                   NaN   \n",
       "5                            NaN              NaN                   NaN   \n",
       "6                            NaN              NaN                   NaN   \n",
       "\n",
       "     Unnamed: 5                 Unnamed: 6  \n",
       "0  Bubble Count  Calculated-Exposure(mrem)  \n",
       "1           107                        124  \n",
       "2           141                        164  \n",
       "3            65                         76  \n",
       "4           NaN                        NaN  \n",
       "5           NaN                        NaN  \n",
       "6           NaN                        NaN  "
      ]
     },
     "execution_count": 3,
     "metadata": {},
     "output_type": "execute_result"
    }
   ],
   "source": [
    "# Let's study how the data looks like\n",
    "df.head(7)"
   ]
  },
  {
   "cell_type": "markdown",
   "metadata": {},
   "source": [
    "The next file is provided by students across Canada who measured the neutron concentration in their schools."
   ]
  },
  {
   "cell_type": "code",
   "execution_count": 4,
   "metadata": {
    "scrolled": false
   },
   "outputs": [
    {
     "data": {
      "text/html": [
       "<div>\n",
       "<style scoped>\n",
       "    .dataframe tbody tr th:only-of-type {\n",
       "        vertical-align: middle;\n",
       "    }\n",
       "\n",
       "    .dataframe tbody tr th {\n",
       "        vertical-align: top;\n",
       "    }\n",
       "\n",
       "    .dataframe thead th {\n",
       "        text-align: right;\n",
       "    }\n",
       "</style>\n",
       "<table border=\"1\" class=\"dataframe\">\n",
       "  <thead>\n",
       "    <tr style=\"text-align: right;\">\n",
       "      <th></th>\n",
       "      <th>Identifier</th>\n",
       "      <th>Collection Date</th>\n",
       "      <th>Number of bubbles</th>\n",
       "      <th>Bubble Detector ID</th>\n",
       "      <th>Sensitivity (b/mrem)</th>\n",
       "      <th>Calculated Exposure (mrem)</th>\n",
       "      <th>City</th>\n",
       "      <th>Province/Territory</th>\n",
       "    </tr>\n",
       "  </thead>\n",
       "  <tbody>\n",
       "    <tr>\n",
       "      <th>0</th>\n",
       "      <td>8163f602-9db5-4c01-9045-d7d997315c82</td>\n",
       "      <td>2018-12-18T12:21:00.000-05:00</td>\n",
       "      <td>3</td>\n",
       "      <td>18051217</td>\n",
       "      <td>44</td>\n",
       "      <td>0.068000</td>\n",
       "      <td>London</td>\n",
       "      <td>Ontario</td>\n",
       "    </tr>\n",
       "    <tr>\n",
       "      <th>1</th>\n",
       "      <td>8163f602-9db5-4c01-9045-d7d997315c82</td>\n",
       "      <td>2019-01-16T12:46:00.000-05:00</td>\n",
       "      <td>0</td>\n",
       "      <td>18129251</td>\n",
       "      <td>41</td>\n",
       "      <td>0.000000</td>\n",
       "      <td>London</td>\n",
       "      <td>Ontario</td>\n",
       "    </tr>\n",
       "    <tr>\n",
       "      <th>2</th>\n",
       "      <td>1f129390-03f2-429b-abc6-66cfee9bf519</td>\n",
       "      <td>2019-01-16T14:16:00.000-04:00</td>\n",
       "      <td>1</td>\n",
       "      <td>18047344</td>\n",
       "      <td>47</td>\n",
       "      <td>0.021277</td>\n",
       "      <td>Florenceville-Bristol</td>\n",
       "      <td>New Brunswick</td>\n",
       "    </tr>\n",
       "    <tr>\n",
       "      <th>3</th>\n",
       "      <td>2e8106c0-d481-446b-bbbb-c32740eef411</td>\n",
       "      <td>2019-02-19T07:30:00.000-05:00</td>\n",
       "      <td>0</td>\n",
       "      <td>18051554</td>\n",
       "      <td>47</td>\n",
       "      <td>0.000000</td>\n",
       "      <td>Longueuil</td>\n",
       "      <td>Quebec</td>\n",
       "    </tr>\n",
       "    <tr>\n",
       "      <th>4</th>\n",
       "      <td>df5eceb7-3194-4e9a-86e0-b5e9f1ac8413</td>\n",
       "      <td>2019-02-19T07:30:00.000-05:00</td>\n",
       "      <td>0</td>\n",
       "      <td>18051554</td>\n",
       "      <td>47</td>\n",
       "      <td>0.000000</td>\n",
       "      <td>Longueuil</td>\n",
       "      <td>Quebec</td>\n",
       "    </tr>\n",
       "    <tr>\n",
       "      <th>5</th>\n",
       "      <td>6648c712-0630-4539-af6d-f59cd463ae54</td>\n",
       "      <td>2019-02-19T07:30:00.000-05:00</td>\n",
       "      <td>0</td>\n",
       "      <td>18051554</td>\n",
       "      <td>47</td>\n",
       "      <td>0.000000</td>\n",
       "      <td>Longueuil</td>\n",
       "      <td>Quebec</td>\n",
       "    </tr>\n",
       "    <tr>\n",
       "      <th>6</th>\n",
       "      <td>5f93d214-802f-415b-8551-862e28c19789</td>\n",
       "      <td>2019-01-16T14:00:00.000-08:00</td>\n",
       "      <td>1</td>\n",
       "      <td>18046220</td>\n",
       "      <td>53</td>\n",
       "      <td>0.018868</td>\n",
       "      <td>Salmon Arm</td>\n",
       "      <td>British Columbia</td>\n",
       "    </tr>\n",
       "  </tbody>\n",
       "</table>\n",
       "</div>"
      ],
      "text/plain": [
       "                             Identifier                Collection Date  \\\n",
       "0  8163f602-9db5-4c01-9045-d7d997315c82  2018-12-18T12:21:00.000-05:00   \n",
       "1  8163f602-9db5-4c01-9045-d7d997315c82  2019-01-16T12:46:00.000-05:00   \n",
       "2  1f129390-03f2-429b-abc6-66cfee9bf519  2019-01-16T14:16:00.000-04:00   \n",
       "3  2e8106c0-d481-446b-bbbb-c32740eef411  2019-02-19T07:30:00.000-05:00   \n",
       "4  df5eceb7-3194-4e9a-86e0-b5e9f1ac8413  2019-02-19T07:30:00.000-05:00   \n",
       "5  6648c712-0630-4539-af6d-f59cd463ae54  2019-02-19T07:30:00.000-05:00   \n",
       "6  5f93d214-802f-415b-8551-862e28c19789  2019-01-16T14:00:00.000-08:00   \n",
       "\n",
       "   Number of bubbles  Bubble Detector ID  Sensitivity (b/mrem)  \\\n",
       "0                  3            18051217                    44   \n",
       "1                  0            18129251                    41   \n",
       "2                  1            18047344                    47   \n",
       "3                  0            18051554                    47   \n",
       "4                  0            18051554                    47   \n",
       "5                  0            18051554                    47   \n",
       "6                  1            18046220                    53   \n",
       "\n",
       "   Calculated Exposure (mrem)                   City Province/Territory  \n",
       "0                    0.068000                 London            Ontario  \n",
       "1                    0.000000                 London            Ontario  \n",
       "2                    0.021277  Florenceville-Bristol      New Brunswick  \n",
       "3                    0.000000              Longueuil             Quebec  \n",
       "4                    0.000000              Longueuil             Quebec  \n",
       "5                    0.000000              Longueuil             Quebec  \n",
       "6                    0.018868             Salmon Arm   British Columbia  "
      ]
     },
     "execution_count": 4,
     "metadata": {},
     "output_type": "execute_result"
    }
   ],
   "source": [
    "studs = pd.read_csv(\"Radi-N2 -Schools project data.csv\")\n",
    "studs.head(7)"
   ]
  },
  {
   "cell_type": "code",
   "execution_count": 5,
   "metadata": {},
   "outputs": [],
   "source": [
    "studs = studs[(studs.T != 0).all()]"
   ]
  },
  {
   "cell_type": "code",
   "execution_count": 6,
   "metadata": {},
   "outputs": [
    {
     "data": {
      "text/plain": [
       "(557, 8)"
      ]
     },
     "execution_count": 6,
     "metadata": {},
     "output_type": "execute_result"
    }
   ],
   "source": [
    "studs.shape"
   ]
  },
  {
   "cell_type": "markdown",
   "metadata": {},
   "source": [
    "### How many identifiers per cities?"
   ]
  },
  {
   "cell_type": "code",
   "execution_count": 7,
   "metadata": {
    "scrolled": true
   },
   "outputs": [
    {
     "data": {
      "text/plain": [
       "City\n",
       "Amqui                                      9\n",
       "Belleville                                 8\n",
       "Brampton                                   7\n",
       "Bridgewater                               15\n",
       "Calgary                                   18\n",
       "Camrose                                    2\n",
       "Channel-Port Aux Basques                   6\n",
       "Chilliwack                                 5\n",
       "Coquitlam                                  7\n",
       "Dartmouth                                  1\n",
       "Dartmouth N.-E.                            5\n",
       "Deep River                                 5\n",
       "Dryden                                     4\n",
       "East Angus                                 9\n",
       "Eganville                                  3\n",
       "Embrun                                     1\n",
       "Florenceville-Bristol                      5\n",
       "Gloucester                                 1\n",
       "Grand Falls-Windsor                        4\n",
       "Grimsby                                    5\n",
       "Guelph                                     2\n",
       "Hamilton                                   3\n",
       "Hanover                                    7\n",
       "Headingley                                 3\n",
       "Innisfail                                  5\n",
       "Kelowna                                    3\n",
       "Kleinburg                                  8\n",
       "LaSalle                                    3\n",
       "Lachine                                    2\n",
       "Limoges                                    2\n",
       "                                          ..\n",
       "Ottawa                                    41\n",
       "Ottawa (Cumberland)                        5\n",
       "Petawawa                                   6\n",
       "Port Dover                                12\n",
       "Port Hardy                                42\n",
       "Richmond Hill                              1\n",
       "Saguenay                                   3\n",
       "Saint-Jerome                               3\n",
       "Sainte-Catherine-de-la-Jacques-Cartier     1\n",
       "Sainte-Marie                               1\n",
       "Salmon Arm                                14\n",
       "Saskatoon                                  2\n",
       "Sechelt                                   29\n",
       "Sherbrooke                                 2\n",
       "St-Felix-de-Valois                         8\n",
       "St-Jean-sur-Richelieu                      5\n",
       "St. Albert                                 7\n",
       "Stonewall                                 37\n",
       "Stouffville                               13\n",
       "Strathroy                                 10\n",
       "Terrace Bay                                6\n",
       "Thornhill                                  2\n",
       "Toronto                                    5\n",
       "Trenton                                    6\n",
       "Tsawwassen                                 1\n",
       "Vancouver                                 21\n",
       "Waterloo                                   9\n",
       "Whitchurch-Stouffville                     9\n",
       "Whitecourt                                 3\n",
       "Winnipeg                                   4\n",
       "Name: Identifier, Length: 69, dtype: int64"
      ]
     },
     "execution_count": 7,
     "metadata": {},
     "output_type": "execute_result"
    }
   ],
   "source": [
    "# group by City\n",
    "count_ids = studs.groupby(['City']).count()\n",
    "count_ids['Identifier']"
   ]
  },
  {
   "cell_type": "markdown",
   "metadata": {},
   "source": [
    "### What is the minimum and maximum bubbles count? What about calculated exposure?"
   ]
  },
  {
   "cell_type": "code",
   "execution_count": 8,
   "metadata": {
    "scrolled": true
   },
   "outputs": [
    {
     "data": {
      "text/plain": [
       "Identifier                    009d1d48-27ab-4446-b20a-b67855ff8e8b\n",
       "Collection Date                      2018-12-18T12:21:00.000-05:00\n",
       "Number of bubbles                                                1\n",
       "Bubble Detector ID                                         1805135\n",
       "Sensitivity (b/mrem)                                            41\n",
       "Calculated Exposure (mrem)                                  0.0149\n",
       "City                                                         Amqui\n",
       "Province/Territory                                         Alberta\n",
       "dtype: object"
      ]
     },
     "execution_count": 8,
     "metadata": {},
     "output_type": "execute_result"
    }
   ],
   "source": [
    "studs.min()"
   ]
  },
  {
   "cell_type": "code",
   "execution_count": 9,
   "metadata": {
    "scrolled": true
   },
   "outputs": [
    {
     "data": {
      "text/plain": [
       "Identifier                    fb1afc76-5b15-4ded-9e8f-d38213229c26\n",
       "Collection Date                      2019-06-08T12:30:00.000-04:00\n",
       "Number of bubbles                                               28\n",
       "Bubble Detector ID                                        19051231\n",
       "Sensitivity (b/mrem)                                            68\n",
       "Calculated Exposure (mrem)                                0.666667\n",
       "City                                                      Winnipeg\n",
       "Province/Territory                                    Saskatchewan\n",
       "dtype: object"
      ]
     },
     "execution_count": 9,
     "metadata": {},
     "output_type": "execute_result"
    }
   ],
   "source": [
    "studs.max()"
   ]
  },
  {
   "cell_type": "markdown",
   "metadata": {},
   "source": [
    "- The minimum bubbles count is 1 and maximum is 28.\n",
    "- The minimum exposure is 0.0149 mrem and maximum exposure is 0.666667 mrem."
   ]
  },
  {
   "cell_type": "markdown",
   "metadata": {},
   "source": [
    "### How many have identified 5 or less bubbles?"
   ]
  },
  {
   "cell_type": "code",
   "execution_count": 10,
   "metadata": {},
   "outputs": [
    {
     "data": {
      "text/plain": [
       "(array([  0,   1,   2,   3,   4,   5,   8,   9,  10,  11,  12,  13,  14,\n",
       "         15,  16,  18,  19,  20,  22,  23,  24,  25,  26,  27,  28,  34,\n",
       "         35,  36,  37,  39,  41,  43,  45,  47,  48,  49,  50,  51,  53,\n",
       "         55,  56,  57,  58,  59,  60,  62,  63,  64,  65,  66,  67,  68,\n",
       "         69,  70,  71,  72,  73,  74,  77,  78,  79,  80,  81,  82,  83,\n",
       "         85,  86,  87,  88,  89,  91,  92,  93,  94,  96,  97,  98,  99,\n",
       "        100, 101, 102, 103, 104, 105, 107, 108, 109, 110, 111, 112, 114,\n",
       "        115, 116, 117, 118, 119, 120, 121, 122, 123, 124, 125, 126, 127,\n",
       "        128, 129, 130, 131, 132, 133, 135, 141, 142, 145, 146, 147, 148,\n",
       "        149, 152, 153, 154, 155, 156, 157, 158, 159, 160, 161, 162, 163,\n",
       "        164, 165, 166, 167, 168, 169, 170, 172, 177, 178, 179, 180, 181,\n",
       "        182, 183, 184, 185, 186, 187, 188, 189, 190, 191, 192, 193, 194,\n",
       "        195, 196, 197, 199, 202, 204, 205, 206, 207, 208, 209, 210, 211,\n",
       "        212, 213, 214, 215, 216, 217, 218, 219, 220, 221, 223, 224, 225,\n",
       "        226, 227, 228, 229, 230, 232, 233, 234, 235, 236, 237, 238, 239,\n",
       "        240, 241, 242, 243, 244, 245, 246, 247, 248, 249, 250, 251, 252,\n",
       "        253, 254, 255, 256, 257, 258, 259, 260, 261, 262, 263, 264, 265,\n",
       "        266, 267, 269, 270, 271, 272, 273, 274, 275, 276, 277, 278, 279,\n",
       "        280, 281, 282, 283, 284, 285, 286, 287, 288, 289, 290, 291, 292,\n",
       "        293, 294, 295, 296, 297, 298, 299, 300, 301, 302, 303, 304, 305,\n",
       "        306, 307, 308, 309, 311, 312, 313, 314, 315, 316, 317, 318, 319,\n",
       "        320, 322, 323, 324, 326, 327, 328, 329, 330, 331, 332, 333, 334,\n",
       "        335, 336, 337, 338, 340, 341, 342, 343, 345, 346, 347, 348, 349,\n",
       "        350, 352, 355, 356, 357, 358, 359, 360, 361, 362, 363, 364, 365,\n",
       "        366, 367, 368, 369, 370, 371, 372, 373, 374, 375, 377, 378, 384,\n",
       "        385, 386, 387, 388, 389, 390, 392, 393, 394, 396, 397, 398, 399,\n",
       "        400, 401, 404, 405, 406, 407, 408, 409, 410, 411, 412, 424, 425,\n",
       "        426, 428, 429, 430, 432, 433, 435, 436, 437, 438, 439, 440, 441,\n",
       "        442, 443, 444, 445, 450, 451, 452, 453, 454, 455, 457, 459, 461,\n",
       "        464, 465, 467, 468, 470, 475, 480, 481, 482, 484, 485, 486, 489,\n",
       "        494, 495, 496, 497, 498, 499, 500, 501, 502, 504, 505, 506, 507,\n",
       "        508, 509, 510, 511, 512, 513, 514, 515, 517, 518, 519, 520, 521,\n",
       "        522, 523, 524, 525, 526, 527, 528, 529, 530, 531, 532, 533, 534,\n",
       "        535, 536, 537, 538, 539, 540, 541, 542, 544, 545, 546, 547, 548,\n",
       "        549, 550], dtype=int64),)"
      ]
     },
     "execution_count": 10,
     "metadata": {},
     "output_type": "execute_result"
    }
   ],
   "source": [
    "import numpy as np\n",
    "# use np.where to identifier which indices have number of bubbles less than 5\n",
    "np.where(studs['Number of bubbles']<5)"
   ]
  },
  {
   "cell_type": "markdown",
   "metadata": {},
   "source": [
    "There are about 444 schools that reported less than 5 bubbles. This is quite a huge drop in numbers."
   ]
  },
  {
   "cell_type": "markdown",
   "metadata": {},
   "source": [
    "## How many unique identifiers?"
   ]
  },
  {
   "cell_type": "code",
   "execution_count": 11,
   "metadata": {},
   "outputs": [
    {
     "data": {
      "text/plain": [
       "105"
      ]
     },
     "execution_count": 11,
     "metadata": {},
     "output_type": "execute_result"
    }
   ],
   "source": [
    "# How many identifiers \n",
    "iden = studs['Identifier'].unique()\n",
    "len(iden)"
   ]
  },
  {
   "cell_type": "markdown",
   "metadata": {},
   "source": [
    "Since there are only 105 unique identifiers, let's take a look at a random city and how were the collection dates for it. \n",
    "\n",
    "_Recall_: they were supposed to measure at 7-day intervals."
   ]
  },
  {
   "cell_type": "code",
   "execution_count": 12,
   "metadata": {},
   "outputs": [
    {
     "name": "stdout",
     "output_type": "stream",
     "text": [
      "                               Identifier                Collection Date  \\\n",
      "126  959484ae-c895-403a-83df-59404e44b9f6  2019-02-21T07:52:00.000-05:00   \n",
      "157  959484ae-c895-403a-83df-59404e44b9f6  2019-02-22T08:25:00.000-05:00   \n",
      "402  959484ae-c895-403a-83df-59404e44b9f6  2019-03-19T09:00:00.000-04:00   \n",
      "403  959484ae-c895-403a-83df-59404e44b9f6  2019-03-20T09:30:00.000-04:00   \n",
      "404  959484ae-c895-403a-83df-59404e44b9f6  2019-03-21T09:16:00.000-04:00   \n",
      "415  959484ae-c895-403a-83df-59404e44b9f6  2019-03-22T10:04:00.000-04:00   \n",
      "\n",
      "     Number of bubbles  Bubble Detector ID  Sensitivity (b/mrem)  \\\n",
      "126                  1            17170336                    56   \n",
      "157                  1            17170336                    56   \n",
      "402                  1            17170336                    56   \n",
      "403                  2            17170336                    56   \n",
      "404                  2            17170336                    56   \n",
      "415                  1            17170336                    56   \n",
      "\n",
      "     Calculated Exposure (mrem)      City Province/Territory  \n",
      "126                    0.017857  Petawawa            Ontario  \n",
      "157                    0.017857  Petawawa            Ontario  \n",
      "402                    0.017857  Petawawa            Ontario  \n",
      "403                    0.035714  Petawawa            Ontario  \n",
      "404                    0.035714  Petawawa            Ontario  \n",
      "415                    0.017860  Petawawa            Ontario  \n"
     ]
    }
   ],
   "source": [
    "print(studs.loc[studs['City'] == 'Petawawa'])\n"
   ]
  },
  {
   "cell_type": "code",
   "execution_count": 13,
   "metadata": {},
   "outputs": [
    {
     "data": {
      "text/plain": [
       "Index(['Identifier', 'Collection Date', 'Number of bubbles',\n",
       "       'Bubble Detector ID', 'Sensitivity (b/mrem)',\n",
       "       'Calculated Exposure (mrem)', 'City', 'Province/Territory'],\n",
       "      dtype='object')"
      ]
     },
     "execution_count": 13,
     "metadata": {},
     "output_type": "execute_result"
    }
   ],
   "source": [
    "# find the cities that have a 7 day range. Plot some of them. with unique identifiers\n",
    "studs.columns"
   ]
  },
  {
   "cell_type": "markdown",
   "metadata": {},
   "source": [
    "### What locations identified more than 5 bubbles?"
   ]
  },
  {
   "cell_type": "code",
   "execution_count": 14,
   "metadata": {
    "scrolled": true
   },
   "outputs": [
    {
     "data": {
      "text/plain": [
       "(array([11, 17, 25, 41, 45, 50, 54, 58, 73, 83, 85, 91, 94, 98],\n",
       "       dtype=int64),)"
      ]
     },
     "execution_count": 14,
     "metadata": {},
     "output_type": "execute_result"
    }
   ],
   "source": [
    "# see the collection dates\n",
    "# studs['Collection Date']\n",
    "\n",
    "grouped_df = studs.groupby(['City','Identifier']).mean()\n",
    "\n",
    "np.where(grouped_df['Number of bubbles']>5)"
   ]
  },
  {
   "cell_type": "markdown",
   "metadata": {},
   "source": [
    "We got 14 locations where they got more than 5 bubbles. So average for them will be much higher than the rest of Canada. \n",
    "Are those locations close to one another? Or are they just human error? "
   ]
  },
  {
   "cell_type": "code",
   "execution_count": 15,
   "metadata": {
    "scrolled": true
   },
   "outputs": [
    {
     "data": {
      "text/plain": [
       "City                                    Identifier                          \n",
       "Amqui                                   67837e41-158f-4f50-b569-b342e84d1233     2.0\n",
       "Belleville                              89d487a5-bd45-45b6-8118-13953c307150     1.0\n",
       "Brampton                                6c107aaf-de6a-404a-9864-a8a708a852e4     2.0\n",
       "                                        af8ce2f7-8567-4534-bbf7-7b2892b535e0     2.0\n",
       "Bridgewater                             02af2a79-c8f7-4353-9163-8755a007df08     3.0\n",
       "                                        0b35e95b-f234-4bdd-b0b0-4048847dfe28     2.0\n",
       "Calgary                                 7cda7462-6d8d-439c-b482-5bd6d768352a     3.0\n",
       "                                        807d5dcd-3485-4f3c-87e4-ae51dd391dd6     3.0\n",
       "                                        a80a5290-4bab-4317-a175-4d0a017ac54c     3.0\n",
       "Camrose                                 009d1d48-27ab-4446-b20a-b67855ff8e8b     1.0\n",
       "                                        f454b9ad-9cbb-4817-a4c5-b0eddced5bd3     1.0\n",
       "Channel-Port Aux Basques                63579a04-e81b-4dfe-93e7-8d1ce3131de4     6.0\n",
       "Chilliwack                              1d00beaf-16c0-43ea-88c5-34e773c1392d     2.0\n",
       "Coquitlam                               e252569c-3a8f-4ee0-850b-34aa38011db4     2.0\n",
       "Dartmouth                               bf78c43c-bf1d-42e7-b53c-6253a80a34b3     3.0\n",
       "Dartmouth N.-E.                         bf78c43c-bf1d-42e7-b53c-6253a80a34b3     2.0\n",
       "Deep River                              849d5554-9ed3-40da-8365-83c8a0c93a0f     3.0\n",
       "Dryden                                  bab46cbd-34c0-4420-b1dc-5e6d035164d4     6.0\n",
       "East Angus                              4ea0356b-8ca6-4493-912a-866f9ff95eeb     2.0\n",
       "                                        56389f81-1962-4add-9138-c292f7e5a132     1.0\n",
       "                                        6fc011b2-4310-4244-bd9a-c3e4aef54e64     1.0\n",
       "                                        ba7cbb6f-bc3d-43f6-bdff-de28e8c058c0     2.0\n",
       "                                        c6d6037c-545f-4201-8eaa-5dd518480bd1     1.0\n",
       "                                        d76ddb9e-b3e7-4616-b4ed-0b91f5062469     1.0\n",
       "Eganville                               c7ac3b2b-09d0-445f-809f-408a1c8456d4     1.0\n",
       "Embrun                                  0c5c5e8f-eeb7-4ba3-ba09-2e3a62b152bb    15.0\n",
       "Florenceville-Bristol                   1f129390-03f2-429b-abc6-66cfee9bf519     3.0\n",
       "Gloucester                              9fb3bbf0-a43a-40b0-9c90-b60fcd63ce51     3.0\n",
       "Grand Falls-Windsor                     5e6065eb-1c77-43d9-8a9b-330542ec6361     4.0\n",
       "Grimsby                                 99b2bc9a-81a8-40d1-af3c-2c7fd27dae2c     2.0\n",
       "                                                                                ... \n",
       "Saint-Jerome                            81cbc647-8732-4a8c-95d0-f536ac37c626     1.0\n",
       "                                        ec82772c-98ac-491c-9320-2af5a1565170     1.0\n",
       "Sainte-Catherine-de-la-Jacques-Cartier  715c3737-b434-4cf3-9da8-4b3f54ff054c     1.0\n",
       "Sainte-Marie                            9519ed75-8806-4bad-a906-40e6bfc93cc7     6.0\n",
       "Salmon Arm                              5f93d214-802f-415b-8551-862e28c19789     2.0\n",
       "Saskatoon                               e88d4cff-021d-4b4d-bdef-f05783598825    16.0\n",
       "Sechelt                                 b0d40d82-757c-46da-af44-e9306f2a3aea     2.0\n",
       "                                        d4f925c1-44d8-4209-902f-df2f6d9b6f50     2.0\n",
       "                                        d5f82152-5e9b-4112-86a0-4471b05b6f82     3.0\n",
       "                                        dad2387a-e40a-4a22-8ac7-1ff0c893d2da     3.0\n",
       "Sherbrooke                              ba7cbb6f-bc3d-43f6-bdff-de28e8c058c0     1.0\n",
       "St-Felix-de-Valois                      faf2b946-8817-4d71-a1f1-2e9b5075b303    10.0\n",
       "St-Jean-sur-Richelieu                   6b3c9938-f2bd-4319-bc2b-536731c81389     3.0\n",
       "St. Albert                              bca40704-6796-4e2a-a5a2-62493aad6374     1.0\n",
       "Stonewall                               0a341b7f-3663-4a85-896a-de92001479e0     6.0\n",
       "Stouffville                             27483cd4-ea09-420f-83b2-09f75f2e02e9     2.0\n",
       "Strathroy                               024f89b4-ea85-48e7-b2ee-8f4f752ddbe9     2.0\n",
       "Terrace Bay                             92f09f90-a005-4db9-9e3d-5fa148ac56a5     2.0\n",
       "Thornhill                               1efe5190-e5c9-4af5-b01b-c4f26b18483b     8.0\n",
       "Toronto                                 98cd0b54-8529-4545-a732-795e531f2f1c     3.0\n",
       "                                        f67c875d-efc7-462a-9c19-6cbb18774fe9     3.0\n",
       "Trenton                                 d9e458d6-b7ce-4bf1-8ba3-62958a948c59     2.0\n",
       "Tsawwassen                              9dde2b0e-a95b-4421-9c49-bca65602dc63     1.0\n",
       "Vancouver                               c10907a9-2918-4e39-98d1-6d8dcee629c0     2.0\n",
       "                                        e053901a-f834-44f5-93d0-e2b88c9b7cdc     1.0\n",
       "Waterloo                                0543fb07-06e0-4eca-8cb4-771e4745e8be     4.0\n",
       "                                        0c57809b-4876-4fdd-a535-974a827e7dab     2.0\n",
       "Whitchurch-Stouffville                  add8d275-7362-47d2-8a9e-3d9f2d310bab     2.0\n",
       "Whitecourt                              51d30129-a05c-4cf8-bc1e-4410c6257e0c     2.0\n",
       "Winnipeg                                70aa09eb-f08d-4946-b502-3c623c9c6b2b     1.0\n",
       "Name: Number of bubbles, Length: 110, dtype: float64"
      ]
     },
     "execution_count": 15,
     "metadata": {},
     "output_type": "execute_result"
    }
   ],
   "source": [
    "aprox_values = round(grouped_df['Number of bubbles'])\n",
    "aprox_values"
   ]
  },
  {
   "cell_type": "markdown",
   "metadata": {},
   "source": [
    "##  GOAL: Find identifiers that do not have 7 days and normalize"
   ]
  },
  {
   "cell_type": "markdown",
   "metadata": {},
   "source": [
    "# 1. Organize by identifier and collection date\n",
    "Organize them by identifier and collection date."
   ]
  },
  {
   "cell_type": "code",
   "execution_count": 16,
   "metadata": {},
   "outputs": [
    {
     "data": {
      "text/html": [
       "<div>\n",
       "<style scoped>\n",
       "    .dataframe tbody tr th:only-of-type {\n",
       "        vertical-align: middle;\n",
       "    }\n",
       "\n",
       "    .dataframe tbody tr th {\n",
       "        vertical-align: top;\n",
       "    }\n",
       "\n",
       "    .dataframe thead th {\n",
       "        text-align: right;\n",
       "    }\n",
       "</style>\n",
       "<table border=\"1\" class=\"dataframe\">\n",
       "  <thead>\n",
       "    <tr style=\"text-align: right;\">\n",
       "      <th></th>\n",
       "      <th>Identifier</th>\n",
       "      <th>Collection Date</th>\n",
       "      <th>Number of bubbles</th>\n",
       "      <th>Bubble Detector ID</th>\n",
       "      <th>Sensitivity (b/mrem)</th>\n",
       "      <th>Calculated Exposure (mrem)</th>\n",
       "      <th>City</th>\n",
       "      <th>Province/Territory</th>\n",
       "    </tr>\n",
       "  </thead>\n",
       "  <tbody>\n",
       "    <tr>\n",
       "      <th>58</th>\n",
       "      <td>009d1d48-27ab-4446-b20a-b67855ff8e8b</td>\n",
       "      <td>2019-01-30T08:52:00.000-07:00</td>\n",
       "      <td>1</td>\n",
       "      <td>17170223</td>\n",
       "      <td>47</td>\n",
       "      <td>0.021277</td>\n",
       "      <td>Camrose</td>\n",
       "      <td>Alberta</td>\n",
       "    </tr>\n",
       "    <tr>\n",
       "      <th>45</th>\n",
       "      <td>02127c7f-69ce-41ee-ae58-402c405b5e49</td>\n",
       "      <td>2019-01-22T11:00:00.000-05:00</td>\n",
       "      <td>4</td>\n",
       "      <td>18129115</td>\n",
       "      <td>49</td>\n",
       "      <td>0.081633</td>\n",
       "      <td>Port Dover</td>\n",
       "      <td>Ontario</td>\n",
       "    </tr>\n",
       "    <tr>\n",
       "      <th>46</th>\n",
       "      <td>02127c7f-69ce-41ee-ae58-402c405b5e49</td>\n",
       "      <td>2019-01-23T11:00:00.000-05:00</td>\n",
       "      <td>5</td>\n",
       "      <td>18129115</td>\n",
       "      <td>49</td>\n",
       "      <td>0.102041</td>\n",
       "      <td>Port Dover</td>\n",
       "      <td>Ontario</td>\n",
       "    </tr>\n",
       "    <tr>\n",
       "      <th>47</th>\n",
       "      <td>02127c7f-69ce-41ee-ae58-402c405b5e49</td>\n",
       "      <td>2019-01-23T11:00:00.000-05:00</td>\n",
       "      <td>4</td>\n",
       "      <td>18129115</td>\n",
       "      <td>49</td>\n",
       "      <td>0.081633</td>\n",
       "      <td>Port Dover</td>\n",
       "      <td>Ontario</td>\n",
       "    </tr>\n",
       "    <tr>\n",
       "      <th>48</th>\n",
       "      <td>02127c7f-69ce-41ee-ae58-402c405b5e49</td>\n",
       "      <td>2019-01-24T11:00:00.000-05:00</td>\n",
       "      <td>6</td>\n",
       "      <td>18129115</td>\n",
       "      <td>49</td>\n",
       "      <td>0.122449</td>\n",
       "      <td>Port Dover</td>\n",
       "      <td>Ontario</td>\n",
       "    </tr>\n",
       "  </tbody>\n",
       "</table>\n",
       "</div>"
      ],
      "text/plain": [
       "                              Identifier                Collection Date  \\\n",
       "58  009d1d48-27ab-4446-b20a-b67855ff8e8b  2019-01-30T08:52:00.000-07:00   \n",
       "45  02127c7f-69ce-41ee-ae58-402c405b5e49  2019-01-22T11:00:00.000-05:00   \n",
       "46  02127c7f-69ce-41ee-ae58-402c405b5e49  2019-01-23T11:00:00.000-05:00   \n",
       "47  02127c7f-69ce-41ee-ae58-402c405b5e49  2019-01-23T11:00:00.000-05:00   \n",
       "48  02127c7f-69ce-41ee-ae58-402c405b5e49  2019-01-24T11:00:00.000-05:00   \n",
       "\n",
       "    Number of bubbles  Bubble Detector ID  Sensitivity (b/mrem)  \\\n",
       "58                  1            17170223                    47   \n",
       "45                  4            18129115                    49   \n",
       "46                  5            18129115                    49   \n",
       "47                  4            18129115                    49   \n",
       "48                  6            18129115                    49   \n",
       "\n",
       "    Calculated Exposure (mrem)        City Province/Territory  \n",
       "58                    0.021277     Camrose            Alberta  \n",
       "45                    0.081633  Port Dover            Ontario  \n",
       "46                    0.102041  Port Dover            Ontario  \n",
       "47                    0.081633  Port Dover            Ontario  \n",
       "48                    0.122449  Port Dover            Ontario  "
      ]
     },
     "execution_count": 16,
     "metadata": {},
     "output_type": "execute_result"
    }
   ],
   "source": [
    "# sort the days for each identifier\n",
    "studs_sorted_df = studs.sort_values(['Identifier','Collection Date'], ascending = [True,True])\n",
    "studs_sorted_df.head(5)"
   ]
  },
  {
   "cell_type": "markdown",
   "metadata": {},
   "source": [
    "# 2. Clean the datetime\n",
    "Remove the characters at the end of date (minutes, timezone).\n",
    "_NOTE_: Do not run the cell bellow TWICE as it will keep on erasing the end."
   ]
  },
  {
   "cell_type": "code",
   "execution_count": 17,
   "metadata": {},
   "outputs": [
    {
     "data": {
      "text/html": [
       "<div>\n",
       "<style scoped>\n",
       "    .dataframe tbody tr th:only-of-type {\n",
       "        vertical-align: middle;\n",
       "    }\n",
       "\n",
       "    .dataframe tbody tr th {\n",
       "        vertical-align: top;\n",
       "    }\n",
       "\n",
       "    .dataframe thead th {\n",
       "        text-align: right;\n",
       "    }\n",
       "</style>\n",
       "<table border=\"1\" class=\"dataframe\">\n",
       "  <thead>\n",
       "    <tr style=\"text-align: right;\">\n",
       "      <th></th>\n",
       "      <th>Identifier</th>\n",
       "      <th>Collection Date</th>\n",
       "      <th>Number of bubbles</th>\n",
       "      <th>Bubble Detector ID</th>\n",
       "      <th>Sensitivity (b/mrem)</th>\n",
       "      <th>Calculated Exposure (mrem)</th>\n",
       "      <th>City</th>\n",
       "      <th>Province/Territory</th>\n",
       "    </tr>\n",
       "  </thead>\n",
       "  <tbody>\n",
       "    <tr>\n",
       "      <th>58</th>\n",
       "      <td>009d1d48-27ab-4446-b20a-b67855ff8e8b</td>\n",
       "      <td>2019-01-30</td>\n",
       "      <td>1</td>\n",
       "      <td>17170223</td>\n",
       "      <td>47</td>\n",
       "      <td>0.021277</td>\n",
       "      <td>Camrose</td>\n",
       "      <td>Alberta</td>\n",
       "    </tr>\n",
       "    <tr>\n",
       "      <th>45</th>\n",
       "      <td>02127c7f-69ce-41ee-ae58-402c405b5e49</td>\n",
       "      <td>2019-01-22</td>\n",
       "      <td>4</td>\n",
       "      <td>18129115</td>\n",
       "      <td>49</td>\n",
       "      <td>0.081633</td>\n",
       "      <td>Port Dover</td>\n",
       "      <td>Ontario</td>\n",
       "    </tr>\n",
       "    <tr>\n",
       "      <th>46</th>\n",
       "      <td>02127c7f-69ce-41ee-ae58-402c405b5e49</td>\n",
       "      <td>2019-01-23</td>\n",
       "      <td>5</td>\n",
       "      <td>18129115</td>\n",
       "      <td>49</td>\n",
       "      <td>0.102041</td>\n",
       "      <td>Port Dover</td>\n",
       "      <td>Ontario</td>\n",
       "    </tr>\n",
       "    <tr>\n",
       "      <th>47</th>\n",
       "      <td>02127c7f-69ce-41ee-ae58-402c405b5e49</td>\n",
       "      <td>2019-01-23</td>\n",
       "      <td>4</td>\n",
       "      <td>18129115</td>\n",
       "      <td>49</td>\n",
       "      <td>0.081633</td>\n",
       "      <td>Port Dover</td>\n",
       "      <td>Ontario</td>\n",
       "    </tr>\n",
       "    <tr>\n",
       "      <th>48</th>\n",
       "      <td>02127c7f-69ce-41ee-ae58-402c405b5e49</td>\n",
       "      <td>2019-01-24</td>\n",
       "      <td>6</td>\n",
       "      <td>18129115</td>\n",
       "      <td>49</td>\n",
       "      <td>0.122449</td>\n",
       "      <td>Port Dover</td>\n",
       "      <td>Ontario</td>\n",
       "    </tr>\n",
       "  </tbody>\n",
       "</table>\n",
       "</div>"
      ],
      "text/plain": [
       "                              Identifier Collection Date  Number of bubbles  \\\n",
       "58  009d1d48-27ab-4446-b20a-b67855ff8e8b      2019-01-30                  1   \n",
       "45  02127c7f-69ce-41ee-ae58-402c405b5e49      2019-01-22                  4   \n",
       "46  02127c7f-69ce-41ee-ae58-402c405b5e49      2019-01-23                  5   \n",
       "47  02127c7f-69ce-41ee-ae58-402c405b5e49      2019-01-23                  4   \n",
       "48  02127c7f-69ce-41ee-ae58-402c405b5e49      2019-01-24                  6   \n",
       "\n",
       "    Bubble Detector ID  Sensitivity (b/mrem)  Calculated Exposure (mrem)  \\\n",
       "58            17170223                    47                    0.021277   \n",
       "45            18129115                    49                    0.081633   \n",
       "46            18129115                    49                    0.102041   \n",
       "47            18129115                    49                    0.081633   \n",
       "48            18129115                    49                    0.122449   \n",
       "\n",
       "          City Province/Territory  \n",
       "58     Camrose            Alberta  \n",
       "45  Port Dover            Ontario  \n",
       "46  Port Dover            Ontario  \n",
       "47  Port Dover            Ontario  \n",
       "48  Port Dover            Ontario  "
      ]
     },
     "execution_count": 17,
     "metadata": {},
     "output_type": "execute_result"
    }
   ],
   "source": [
    "# Strip the random endings and leave only the dates alone. No minutes, timezone, etc.\n",
    "\n",
    "studs_sorted_df['Collection Date']= studs_sorted_df['Collection Date'].str[:-19]\n",
    "studs_sorted_df.head(5)\n",
    "# DO NO RERUN THIS CELL"
   ]
  },
  {
   "cell_type": "markdown",
   "metadata": {},
   "source": [
    "### Remove unique identifiers\n",
    "We want to work with data that has been collected at least twice. Otherwise, it is impossible to predict what a 7th day collection would have looked like."
   ]
  },
  {
   "cell_type": "code",
   "execution_count": 18,
   "metadata": {},
   "outputs": [
    {
     "data": {
      "text/plain": [
       "(44, 8)"
      ]
     },
     "execution_count": 18,
     "metadata": {},
     "output_type": "execute_result"
    }
   ],
   "source": [
    "# remove single identifiers\n",
    "studs_sorted_df.groupby(['Identifier','Collection Date']).filter(lambda x: len(x)>1).shape"
   ]
  },
  {
   "cell_type": "markdown",
   "metadata": {},
   "source": [
    "# 3. Reset Index"
   ]
  },
  {
   "cell_type": "code",
   "execution_count": 19,
   "metadata": {},
   "outputs": [
    {
     "data": {
      "text/plain": [
       "Index(['Identifier', 'Collection Date', 'Number of bubbles',\n",
       "       'Bubble Detector ID', 'Sensitivity (b/mrem)',\n",
       "       'Calculated Exposure (mrem)', 'City', 'Province/Territory'],\n",
       "      dtype='object')"
      ]
     },
     "execution_count": 19,
     "metadata": {},
     "output_type": "execute_result"
    }
   ],
   "source": [
    "#check column names\n",
    "studs_sorted_df.columns"
   ]
  },
  {
   "cell_type": "code",
   "execution_count": 20,
   "metadata": {
    "scrolled": false
   },
   "outputs": [],
   "source": [
    "# reset index\n",
    "studs_sorted_df = studs_sorted_df.reset_index()"
   ]
  },
  {
   "cell_type": "code",
   "execution_count": 21,
   "metadata": {
    "scrolled": true
   },
   "outputs": [
    {
     "data": {
      "text/html": [
       "<div>\n",
       "<style scoped>\n",
       "    .dataframe tbody tr th:only-of-type {\n",
       "        vertical-align: middle;\n",
       "    }\n",
       "\n",
       "    .dataframe tbody tr th {\n",
       "        vertical-align: top;\n",
       "    }\n",
       "\n",
       "    .dataframe thead th {\n",
       "        text-align: right;\n",
       "    }\n",
       "</style>\n",
       "<table border=\"1\" class=\"dataframe\">\n",
       "  <thead>\n",
       "    <tr style=\"text-align: right;\">\n",
       "      <th></th>\n",
       "      <th>Identifier</th>\n",
       "      <th>Collection Date</th>\n",
       "      <th>Number of bubbles</th>\n",
       "      <th>Bubble Detector ID</th>\n",
       "      <th>Sensitivity (b/mrem)</th>\n",
       "      <th>Calculated Exposure (mrem)</th>\n",
       "      <th>City</th>\n",
       "      <th>Province/Territory</th>\n",
       "    </tr>\n",
       "  </thead>\n",
       "  <tbody>\n",
       "    <tr>\n",
       "      <th>0</th>\n",
       "      <td>009d1d48-27ab-4446-b20a-b67855ff8e8b</td>\n",
       "      <td>2019-01-30</td>\n",
       "      <td>1</td>\n",
       "      <td>17170223</td>\n",
       "      <td>47</td>\n",
       "      <td>0.021277</td>\n",
       "      <td>Camrose</td>\n",
       "      <td>Alberta</td>\n",
       "    </tr>\n",
       "    <tr>\n",
       "      <th>1</th>\n",
       "      <td>02127c7f-69ce-41ee-ae58-402c405b5e49</td>\n",
       "      <td>2019-01-22</td>\n",
       "      <td>4</td>\n",
       "      <td>18129115</td>\n",
       "      <td>49</td>\n",
       "      <td>0.081633</td>\n",
       "      <td>Port Dover</td>\n",
       "      <td>Ontario</td>\n",
       "    </tr>\n",
       "    <tr>\n",
       "      <th>2</th>\n",
       "      <td>02127c7f-69ce-41ee-ae58-402c405b5e49</td>\n",
       "      <td>2019-01-23</td>\n",
       "      <td>5</td>\n",
       "      <td>18129115</td>\n",
       "      <td>49</td>\n",
       "      <td>0.102041</td>\n",
       "      <td>Port Dover</td>\n",
       "      <td>Ontario</td>\n",
       "    </tr>\n",
       "    <tr>\n",
       "      <th>3</th>\n",
       "      <td>02127c7f-69ce-41ee-ae58-402c405b5e49</td>\n",
       "      <td>2019-01-23</td>\n",
       "      <td>4</td>\n",
       "      <td>18129115</td>\n",
       "      <td>49</td>\n",
       "      <td>0.081633</td>\n",
       "      <td>Port Dover</td>\n",
       "      <td>Ontario</td>\n",
       "    </tr>\n",
       "    <tr>\n",
       "      <th>4</th>\n",
       "      <td>02127c7f-69ce-41ee-ae58-402c405b5e49</td>\n",
       "      <td>2019-01-24</td>\n",
       "      <td>6</td>\n",
       "      <td>18129115</td>\n",
       "      <td>49</td>\n",
       "      <td>0.122449</td>\n",
       "      <td>Port Dover</td>\n",
       "      <td>Ontario</td>\n",
       "    </tr>\n",
       "  </tbody>\n",
       "</table>\n",
       "</div>"
      ],
      "text/plain": [
       "                             Identifier Collection Date  Number of bubbles  \\\n",
       "0  009d1d48-27ab-4446-b20a-b67855ff8e8b      2019-01-30                  1   \n",
       "1  02127c7f-69ce-41ee-ae58-402c405b5e49      2019-01-22                  4   \n",
       "2  02127c7f-69ce-41ee-ae58-402c405b5e49      2019-01-23                  5   \n",
       "3  02127c7f-69ce-41ee-ae58-402c405b5e49      2019-01-23                  4   \n",
       "4  02127c7f-69ce-41ee-ae58-402c405b5e49      2019-01-24                  6   \n",
       "\n",
       "   Bubble Detector ID  Sensitivity (b/mrem)  Calculated Exposure (mrem)  \\\n",
       "0            17170223                    47                    0.021277   \n",
       "1            18129115                    49                    0.081633   \n",
       "2            18129115                    49                    0.102041   \n",
       "3            18129115                    49                    0.081633   \n",
       "4            18129115                    49                    0.122449   \n",
       "\n",
       "         City Province/Territory  \n",
       "0     Camrose            Alberta  \n",
       "1  Port Dover            Ontario  \n",
       "2  Port Dover            Ontario  \n",
       "3  Port Dover            Ontario  \n",
       "4  Port Dover            Ontario  "
      ]
     },
     "execution_count": 21,
     "metadata": {},
     "output_type": "execute_result"
    }
   ],
   "source": [
    "studs_sorted_df.drop(columns = 'index').head(5)"
   ]
  },
  {
   "cell_type": "markdown",
   "metadata": {},
   "source": [
    "# 4. Save the file externally."
   ]
  },
  {
   "cell_type": "code",
   "execution_count": 22,
   "metadata": {},
   "outputs": [],
   "source": [
    "studs_sorted_df.to_csv(\"students_clean.csv\", sep = ',')"
   ]
  },
  {
   "cell_type": "markdown",
   "metadata": {},
   "source": [
    "Note: The file students_clean got modified into `radiation.csv` by a teammember. The following files can be found in the folder `data` on my Github [here.](https://github.com/rominacarabathampi/CanadianSpaceAppChallenge/tree/master/data)\n",
    "\n",
    "# 5. Merge file with Radiation data"
   ]
  },
  {
   "cell_type": "code",
   "execution_count": null,
   "metadata": {},
   "outputs": [],
   "source": []
  },
  {
   "cell_type": "code",
   "execution_count": null,
   "metadata": {},
   "outputs": [],
   "source": []
  },
  {
   "cell_type": "code",
   "execution_count": 23,
   "metadata": {},
   "outputs": [],
   "source": [
    "import pandas as pd\n",
    "# read radiation file\n",
    "df = pd.read_csv('radiation.csv')"
   ]
  },
  {
   "cell_type": "code",
   "execution_count": 24,
   "metadata": {
    "scrolled": true
   },
   "outputs": [
    {
     "data": {
      "text/plain": [
       "Index(['Identifier', 'Collection Date', 'Number of bubbles',\n",
       "       'Bubble Detector ID', 'Sensitivity (b/mrem)',\n",
       "       'Calculated Exposure (mrem)', 'City', 'Province/Territory',\n",
       "       'Unnamed: 8', 'Calculated Exposure Day 7'],\n",
       "      dtype='object')"
      ]
     },
     "execution_count": 24,
     "metadata": {},
     "output_type": "execute_result"
    }
   ],
   "source": [
    "#check column names\n",
    "df.columns"
   ]
  },
  {
   "cell_type": "markdown",
   "metadata": {},
   "source": [
    "### Remove all zeros from the data."
   ]
  },
  {
   "cell_type": "code",
   "execution_count": 25,
   "metadata": {},
   "outputs": [],
   "source": [
    "# remove al rows that have values of zeros\n",
    "df = df[(df.T != 0).all()]"
   ]
  },
  {
   "cell_type": "markdown",
   "metadata": {},
   "source": [
    "### Change the dataframe to contain only columns of interest."
   ]
  },
  {
   "cell_type": "code",
   "execution_count": 26,
   "metadata": {},
   "outputs": [],
   "source": [
    "# select columns Identifier, City, Province/Territory, Calculated Exposure Day 7\n",
    "df = df.loc[:, ['Identifier','City','Province/Territory','Calculated Exposure Day 7']]"
   ]
  },
  {
   "cell_type": "code",
   "execution_count": 27,
   "metadata": {},
   "outputs": [
    {
     "data": {
      "text/plain": [
       "Index(['Identifier', 'City', 'Province/Territory',\n",
       "       'Calculated Exposure Day 7'],\n",
       "      dtype='object')"
      ]
     },
     "execution_count": 27,
     "metadata": {},
     "output_type": "execute_result"
    }
   ],
   "source": [
    "# check columns names after change\n",
    "df.columns"
   ]
  },
  {
   "cell_type": "markdown",
   "metadata": {},
   "source": [
    "### Remove NaNs"
   ]
  },
  {
   "cell_type": "code",
   "execution_count": 28,
   "metadata": {},
   "outputs": [],
   "source": [
    "# Remove all NaNs from the data\n",
    "df = df.dropna()"
   ]
  },
  {
   "cell_type": "markdown",
   "metadata": {},
   "source": [
    "### Change Nouvelle-?cosse to Nova Scotia"
   ]
  },
  {
   "cell_type": "code",
   "execution_count": 29,
   "metadata": {},
   "outputs": [],
   "source": [
    "# Replace Nouvelle-?cosse to Nova Scotia\n",
    "df.loc[(df['Province/Territory'] == 'Nouvelle-?cosse'),'Province/Territory'] ='Nova Scotia'"
   ]
  },
  {
   "cell_type": "code",
   "execution_count": 30,
   "metadata": {},
   "outputs": [],
   "source": [
    "# see the dimension of the file"
   ]
  },
  {
   "cell_type": "code",
   "execution_count": 31,
   "metadata": {},
   "outputs": [
    {
     "data": {
      "text/plain": [
       "(109, 4)"
      ]
     },
     "execution_count": 31,
     "metadata": {},
     "output_type": "execute_result"
    }
   ],
   "source": [
    "df.shape"
   ]
  },
  {
   "cell_type": "markdown",
   "metadata": {},
   "source": [
    "## 6. Read the research file on radiation \n",
    "And merge them on cities. This will help comparison of neutron radiation to be compared to all other radiation sources per city."
   ]
  },
  {
   "cell_type": "code",
   "execution_count": 32,
   "metadata": {},
   "outputs": [
    {
     "data": {
      "text/html": [
       "<div>\n",
       "<style scoped>\n",
       "    .dataframe tbody tr th:only-of-type {\n",
       "        vertical-align: middle;\n",
       "    }\n",
       "\n",
       "    .dataframe tbody tr th {\n",
       "        vertical-align: top;\n",
       "    }\n",
       "\n",
       "    .dataframe thead th {\n",
       "        text-align: right;\n",
       "    }\n",
       "</style>\n",
       "<table border=\"1\" class=\"dataframe\">\n",
       "  <thead>\n",
       "    <tr style=\"text-align: right;\">\n",
       "      <th></th>\n",
       "      <th>City</th>\n",
       "      <th>Radon(mrem)</th>\n",
       "      <th>External Terrestrial (mrem)</th>\n",
       "      <th>Cosmic (mrem)</th>\n",
       "      <th>Ingestion (mrem)</th>\n",
       "    </tr>\n",
       "  </thead>\n",
       "  <tbody>\n",
       "    <tr>\n",
       "      <th>0</th>\n",
       "      <td>Dartmouth</td>\n",
       "      <td>62.900</td>\n",
       "      <td>33.3</td>\n",
       "      <td>32.5</td>\n",
       "      <td>30.6</td>\n",
       "    </tr>\n",
       "    <tr>\n",
       "      <th>1</th>\n",
       "      <td>Limoges</td>\n",
       "      <td>62.900</td>\n",
       "      <td>24.0</td>\n",
       "      <td>35.0</td>\n",
       "      <td>30.6</td>\n",
       "    </tr>\n",
       "    <tr>\n",
       "      <th>2</th>\n",
       "      <td>Whitchurch-Stouffville</td>\n",
       "      <td>188.700</td>\n",
       "      <td>17.8</td>\n",
       "      <td>35.0</td>\n",
       "      <td>30.6</td>\n",
       "    </tr>\n",
       "    <tr>\n",
       "      <th>3</th>\n",
       "      <td>Sainte-Catherine-de-la-Jacques-Cartier</td>\n",
       "      <td>188.700</td>\n",
       "      <td>21.9</td>\n",
       "      <td>37.5</td>\n",
       "      <td>30.6</td>\n",
       "    </tr>\n",
       "    <tr>\n",
       "      <th>4</th>\n",
       "      <td>Newmarket</td>\n",
       "      <td>1.887</td>\n",
       "      <td>17.8</td>\n",
       "      <td>35.0</td>\n",
       "      <td>30.6</td>\n",
       "    </tr>\n",
       "    <tr>\n",
       "      <th>5</th>\n",
       "      <td>St-Felix-de-Valois</td>\n",
       "      <td>62.900</td>\n",
       "      <td>27.8</td>\n",
       "      <td>37.5</td>\n",
       "      <td>30.6</td>\n",
       "    </tr>\n",
       "    <tr>\n",
       "      <th>6</th>\n",
       "      <td>Stouffville</td>\n",
       "      <td>188.700</td>\n",
       "      <td>17.8</td>\n",
       "      <td>35.0</td>\n",
       "      <td>30.6</td>\n",
       "    </tr>\n",
       "    <tr>\n",
       "      <th>7</th>\n",
       "      <td>St-Jean-sur-Richelieu</td>\n",
       "      <td>314.500</td>\n",
       "      <td>27.8</td>\n",
       "      <td>37.5</td>\n",
       "      <td>30.6</td>\n",
       "    </tr>\n",
       "    <tr>\n",
       "      <th>8</th>\n",
       "      <td>Oakville</td>\n",
       "      <td>188.700</td>\n",
       "      <td>17.8</td>\n",
       "      <td>35.0</td>\n",
       "      <td>30.6</td>\n",
       "    </tr>\n",
       "    <tr>\n",
       "      <th>9</th>\n",
       "      <td>Saskatoon</td>\n",
       "      <td>314.500</td>\n",
       "      <td>33.3</td>\n",
       "      <td>42.5</td>\n",
       "      <td>30.6</td>\n",
       "    </tr>\n",
       "  </tbody>\n",
       "</table>\n",
       "</div>"
      ],
      "text/plain": [
       "                                     City  Radon(mrem)  \\\n",
       "0                               Dartmouth       62.900   \n",
       "1                                 Limoges       62.900   \n",
       "2                  Whitchurch-Stouffville      188.700   \n",
       "3  Sainte-Catherine-de-la-Jacques-Cartier      188.700   \n",
       "4                               Newmarket        1.887   \n",
       "5                      St-Felix-de-Valois       62.900   \n",
       "6                             Stouffville      188.700   \n",
       "7                   St-Jean-sur-Richelieu      314.500   \n",
       "8                                Oakville      188.700   \n",
       "9                               Saskatoon      314.500   \n",
       "\n",
       "   External Terrestrial (mrem)  Cosmic (mrem)  Ingestion (mrem)  \n",
       "0                         33.3           32.5              30.6  \n",
       "1                         24.0           35.0              30.6  \n",
       "2                         17.8           35.0              30.6  \n",
       "3                         21.9           37.5              30.6  \n",
       "4                         17.8           35.0              30.6  \n",
       "5                         27.8           37.5              30.6  \n",
       "6                         17.8           35.0              30.6  \n",
       "7                         27.8           37.5              30.6  \n",
       "8                         17.8           35.0              30.6  \n",
       "9                         33.3           42.5              30.6  "
      ]
     },
     "execution_count": 32,
     "metadata": {},
     "output_type": "execute_result"
    }
   ],
   "source": [
    "research = pd.read_csv('City-wise Radiation Information - Feuille 1.csv')\n",
    "research.head(10)"
   ]
  },
  {
   "cell_type": "code",
   "execution_count": 33,
   "metadata": {},
   "outputs": [],
   "source": [
    "# merge on City\n",
    "merged = pd.merge(df, research, on=['City'])"
   ]
  },
  {
   "cell_type": "code",
   "execution_count": 34,
   "metadata": {},
   "outputs": [
    {
     "data": {
      "text/plain": [
       "(105, 8)"
      ]
     },
     "execution_count": 34,
     "metadata": {},
     "output_type": "execute_result"
    }
   ],
   "source": [
    "# dimensions of merged file\n",
    "merged.shape"
   ]
  },
  {
   "cell_type": "code",
   "execution_count": 35,
   "metadata": {},
   "outputs": [
    {
     "data": {
      "text/plain": [
       "Index(['Identifier', 'City', 'Province/Territory', 'Calculated Exposure Day 7',\n",
       "       'Radon(mrem)', 'External Terrestrial (mrem)', 'Cosmic (mrem)',\n",
       "       'Ingestion (mrem)'],\n",
       "      dtype='object')"
      ]
     },
     "execution_count": 35,
     "metadata": {},
     "output_type": "execute_result"
    }
   ],
   "source": [
    "# column names\n",
    "merged.columns"
   ]
  },
  {
   "cell_type": "markdown",
   "metadata": {},
   "source": [
    "# 7. Save file externally.\n",
    "\n",
    "Save the final file externally."
   ]
  },
  {
   "cell_type": "code",
   "execution_count": 36,
   "metadata": {},
   "outputs": [],
   "source": [
    "merged.to_csv('merged_files.csv')"
   ]
  }
 ],
 "metadata": {
  "kernelspec": {
   "display_name": "Python 3",
   "language": "python",
   "name": "python3"
  },
  "language_info": {
   "codemirror_mode": {
    "name": "ipython",
    "version": 3
   },
   "file_extension": ".py",
   "mimetype": "text/x-python",
   "name": "python",
   "nbconvert_exporter": "python",
   "pygments_lexer": "ipython3",
   "version": "3.7.3"
  }
 },
 "nbformat": 4,
 "nbformat_minor": 2
}
